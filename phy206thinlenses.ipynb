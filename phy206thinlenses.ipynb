{
 "cells": [
  {
   "cell_type": "markdown",
   "id": "669cb195",
   "metadata": {},
   "source": [
    "# Physics 206 Lab 5 - Thin Lenses\n",
    "\n",
    "## Tucker Knaak - Department of Physics, Creighton University, 09/21/2023\n",
    "\n",
    "#### This code incorporates the principles of geometrical optics to study the behavior of thin lenses.  This code draws an interactive ray diagram for the system which can adjust the object distance or the position the thin lens."
   ]
  },
  {
   "cell_type": "code",
   "execution_count": 1,
   "id": "d56f3774",
   "metadata": {},
   "outputs": [],
   "source": [
    "'''Imports'''\n",
    "import matplotlib.patches as patches\n",
    "import matplotlib.pyplot as plt\n",
    "import ipywidgets"
   ]
  },
  {
   "cell_type": "markdown",
   "id": "45b65c0c",
   "metadata": {},
   "source": [
    "#### This cell creates an interactive plot of the ray diagram for a converging lens (positive focal length)."
   ]
  },
  {
   "cell_type": "code",
   "execution_count": 2,
   "id": "0a8c8514",
   "metadata": {
    "scrolled": false
   },
   "outputs": [
    {
     "data": {
      "application/vnd.jupyter.widget-view+json": {
       "model_id": "5a1dcdd640f24ae1ac33f3bec9e5f438",
       "version_major": 2,
       "version_minor": 0
      },
      "text/plain": [
       "interactive(children=(IntSlider(value=10, description='f', max=50, min=1), IntSlider(value=0, description='obj…"
      ]
     },
     "metadata": {},
     "output_type": "display_data"
    }
   ],
   "source": [
    "'''Initial Conditions'''\n",
    "f = 10         #focal length of the converging lens [cm]\n",
    "lens_pos = 20  #position of the lens on the ray diagram [cm]\n",
    "obj_pos = 0    #position of the object (light source) on the ray diagram [cm]\n",
    "ho = 1         #height of the object [cm]\n",
    "\n",
    "'''Creating ray diagram for a converging lens from thin lens equation calculations'''\n",
    "def converging_lens(f = f, obj_pos = obj_pos, lens_pos = lens_pos):\n",
    "    #Thin lens calculations\n",
    "    do = lens_pos - obj_pos        #object distance [cm]\n",
    "    di = 1 / ((1 / f) - (1 / do))  #image distance [cm]\n",
    "    img_pos = lens_pos + di        #position of the image on the ray diagram [cm]\n",
    "    m = -di / do                   #magnification of the object/image pair\n",
    "    hi = ho * m                    #height of the image [cm]\n",
    "    \n",
    "    #Axes limits\n",
    "    max_height = max(abs(ho), abs(hi))\n",
    "    min_height = -max_height\n",
    "    max_dist = max(lens_pos + f, obj_pos, img_pos)\n",
    "    min_dist = min(lens_pos - f, obj_pos, img_pos)\n",
    "    \n",
    "    #Creating the lenses\n",
    "    lens = patches.FancyArrowPatch((lens_pos, min_height - 0.5), (lens_pos, max_height + 0.5), arrowstyle = '<|-|>',\n",
    "                mutation_scale = 20, linewidth = 1.5, facecolor = 'red', edgecolor = 'darkgray')\n",
    "    \n",
    "    #Creating the objects and images\n",
    "    obj = patches.Arrow(obj_pos, 0, 0, ho, color = 'red', width = 0.5)\n",
    "    img = patches.Arrow(img_pos, 0, 0, hi, color = 'blue', width = 0.5)\n",
    "    \n",
    "    #Creating the figure\n",
    "    fig, ax = plt.subplots(figsize = (10, 5), dpi = 100)\n",
    "    fig.tight_layout()\n",
    "    ax.set_xlabel('Distance [cm]')\n",
    "    ax.set_ylabel('Height [cm]')\n",
    "    ax.set_title('Converging Lens Ray Diagram (f = {}cm)'.format(f))\n",
    "    ax.grid(True, linestyle = 'dashed', color = 'darkgray', alpha = 0.25)\n",
    "    ax.plot([min_dist - 5, max_dist + 5], [0, 0], linestyle = 'solid', linewidth = 1, color = 'black')\n",
    "    line1, = ax.plot([], [], linestyle = 'solid', color = 'red', label = 'Object')\n",
    "    line2, = ax.plot([], [], linestyle = 'solid', color = 'blue', label = 'Image')\n",
    "    line3, = ax.plot([], [], linestyle = 'None', label = '$m$ = {}x'.format(round(m, 2)))\n",
    "    line4, = ax.plot([], [], linestyle = 'None', label = '$d_o$ = {}cm'.format(float(round(do, 2))))\n",
    "    line5, = ax.plot([], [], linestyle = 'None', label = '$d_i$ = {}cm'.format(round(di, 2)))\n",
    "    ax.scatter([lens_pos - f, lens_pos + f], [0, 0], s = 15, color = 'red', zorder = 5)\n",
    "    \n",
    "    #Creating and adding the rays\n",
    "    x1_list = [obj_pos, lens_pos, obj_pos, lens_pos]\n",
    "    y1_list = [ho, ho, ho, 0]\n",
    "    x2_list = [lens_pos, img_pos, lens_pos, img_pos]\n",
    "    y2_list = [ho, hi, 0, hi]\n",
    "    for x1, y1, x2, y2 in zip(x1_list, y1_list, x2_list, y2_list):\n",
    "        ray = patches.ConnectionPatch((x1, y1), (x2, y2), coordsA = 'data', coordsB = 'data',\n",
    "                                      linestyle = 'solid', color = 'red', zorder = 10)\n",
    "        ax.add_patch(ray)\n",
    "        \n",
    "    #Adding the object, image, and lens\n",
    "    ax.add_patch(obj)\n",
    "    ax.add_patch(img)\n",
    "    ax.add_patch(lens)\n",
    "    \n",
    "    #Adding the legends\n",
    "    legend1 = ax.legend(loc = 'upper right', prop = {'size': 12}, handles = [line1, line2])\n",
    "    plt.gca().add_artist(legend1)\n",
    "    ax.legend(loc = 'lower left', prop = {'size': 12}, handles = [line3, line4, line5], handlelength = 0)\n",
    "    \n",
    "'''Creating an interactive plot which controls the object distance and position of the converging lens'''\n",
    "ipywidgets.interact(converging_lens, f = (1, 50, 1), obj_pos = (0, 50, 1), lens_pos = (0, 100, 1));"
   ]
  },
  {
   "cell_type": "markdown",
   "id": "d19bf6b0",
   "metadata": {},
   "source": [
    "#### This cell creates an interactive plot of the ray diagram for a diverging lens (negative focal length)."
   ]
  },
  {
   "cell_type": "code",
   "execution_count": 3,
   "id": "e57c2947",
   "metadata": {
    "scrolled": false
   },
   "outputs": [
    {
     "data": {
      "application/vnd.jupyter.widget-view+json": {
       "model_id": "77d4dc5f340742a09b8de4c994158fad",
       "version_major": 2,
       "version_minor": 0
      },
      "text/plain": [
       "interactive(children=(IntSlider(value=-10, description='f', max=-1, min=-50), IntSlider(value=0, description='…"
      ]
     },
     "metadata": {},
     "output_type": "display_data"
    }
   ],
   "source": [
    "'''Initial Conditions'''\n",
    "f = -10        #focal length of the diverging lens [cm]\n",
    "lens_pos = 20  #position of the lens on the ray diagram [cm]\n",
    "obj_pos = 0    #position of the object (light source) on the ray diagram [cm]\n",
    "ho = 1         #height of the object [cm]\n",
    "\n",
    "'''Creating ray diagram for a diverging lens from thin lens equation calculations'''\n",
    "def diverging_lens(f = f, obj_pos = obj_pos, lens_pos = lens_pos):\n",
    "    #Thin lens calculations\n",
    "    do = lens_pos - obj_pos        #object distance [cm]\n",
    "    di = 1 / ((1 / f) - (1 / do))  #image distance [cm]\n",
    "    img_pos = lens_pos + di        #position of the image on the ray diagram [cm]\n",
    "    m = -di / do                   #magnification of the object/image pair\n",
    "    hi = ho * m                    #height of the image [cm]\n",
    "    \n",
    "    #Axes limits\n",
    "    max_height = max(abs(ho), abs(hi))\n",
    "    min_height = -max_height\n",
    "    max_dist = max(lens_pos - f, obj_pos, img_pos)\n",
    "    min_dist = min(lens_pos + f, obj_pos, img_pos)\n",
    "    \n",
    "    #Creating the lens\n",
    "    lens = patches.FancyArrowPatch((lens_pos, min_height - 0.5), (lens_pos, max_height + 0.5), arrowstyle = '<|-|>',\n",
    "                mutation_scale = 20, linewidth = 1.5, facecolor = 'red', edgecolor = 'darkgray')\n",
    "    \n",
    "    #Creating the objects and images\n",
    "    obj = patches.Arrow(obj_pos, 0, 0, ho, color = 'red', width = 0.5)\n",
    "    img = patches.Arrow(img_pos, 0, 0, hi, color = 'blue', width = 0.5)\n",
    "    \n",
    "    #Creating the figure\n",
    "    fig, ax = plt.subplots(figsize = (10, 5), dpi = 100)\n",
    "    fig.tight_layout()\n",
    "    ax.set_xlabel('Distance [cm]')\n",
    "    ax.set_ylabel('Height [cm]')\n",
    "    ax.set_title('Diverging Lens Ray Diagram (f = {}cm)'.format(f))\n",
    "    ax.grid(True, linestyle = 'dashed', color = 'darkgray', alpha = 0.25)\n",
    "    ax.plot([min_dist - 5, max_dist + 5], [0, 0], linestyle = 'solid', linewidth = 1, color = 'black')\n",
    "    line1, = ax.plot([], [], linestyle = 'solid', color = 'red', label = 'Object')\n",
    "    line2, = ax.plot([], [], linestyle = 'solid', color = 'blue', label = 'Image')\n",
    "    line3, = ax.plot([], [], linestyle = 'None', label = '$m$ = {}x'.format(round(m, 2)))\n",
    "    line4, = ax.plot([], [], linestyle = 'None', label = '$d_o$ = {}cm'.format(float(round(do, 2))))\n",
    "    line5, = ax.plot([], [], linestyle = 'None', label = '$d_i$ = {}cm'.format(round(di, 2)))\n",
    "    ax.scatter([lens_pos + f, lens_pos - f], [0, 0], s = 15, color = 'red', zorder = 5)\n",
    "    \n",
    "    #Creating and adding the rays\n",
    "    x1_list = [obj_pos, lens_pos, lens_pos, obj_pos]\n",
    "    y1_list = [ho, ho, ho, ho]\n",
    "    x2_list = [lens_pos, lens_pos + f, lens_pos - f, lens_pos]\n",
    "    y2_list = [ho, 0, 2 * ho, 0]\n",
    "    for x1, y1, x2, y2 in zip(x1_list, y1_list, x2_list, y2_list):\n",
    "        ray = patches.ConnectionPatch((x1, y1), (x2, y2), coordsA = 'data', coordsB = 'data',\n",
    "                                      linestyle = 'solid', color = 'red', zorder = 10)\n",
    "        ax.add_patch(ray)\n",
    "        \n",
    "    #Adding the object, image, and lens\n",
    "    ax.add_patch(obj)\n",
    "    ax.add_patch(img)\n",
    "    ax.add_patch(lens)\n",
    "    \n",
    "    #Adding the legends\n",
    "    legend1 = ax.legend(loc = 'upper left', prop = {'size': 12}, handles = [line1, line2])\n",
    "    plt.gca().add_artist(legend1)\n",
    "    ax.legend(loc = 'lower left', prop = {'size': 12}, handles = [line3, line4, line5], handlelength = 0)\n",
    "    \n",
    "'''Creating an interactive plot which controls the object distance and position of the diverging lens'''\n",
    "ipywidgets.interact(diverging_lens, f = (-50, -1, 1), obj_pos = (0, 50, 1), lens_pos = (0, 100, 1));"
   ]
  },
  {
   "cell_type": "code",
   "execution_count": null,
   "id": "78ff1ae1",
   "metadata": {},
   "outputs": [],
   "source": []
  }
 ],
 "metadata": {
  "kernelspec": {
   "display_name": "Python 3 (ipykernel)",
   "language": "python",
   "name": "python3"
  },
  "language_info": {
   "codemirror_mode": {
    "name": "ipython",
    "version": 3
   },
   "file_extension": ".py",
   "mimetype": "text/x-python",
   "name": "python",
   "nbconvert_exporter": "python",
   "pygments_lexer": "ipython3",
   "version": "3.11.3"
  }
 },
 "nbformat": 4,
 "nbformat_minor": 5
}
