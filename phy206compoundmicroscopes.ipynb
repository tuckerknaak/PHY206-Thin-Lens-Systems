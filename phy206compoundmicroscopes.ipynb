{
 "cells": [
  {
   "cell_type": "markdown",
   "id": "669cb195",
   "metadata": {},
   "source": [
    "# Physics 206 Lab 5 - Microscopes\n",
    "\n",
    "## Tucker Knaak - Department of Physics, Creighton University, 09/19/2023\n",
    "\n",
    "#### This code incorporates the principles of geometrical optics to create a compound microscope from two converging thin lenses.  This code draws an interactive ray diagram for the system which can adjust the object distance or the focal length and position of either of the thin lenses."
   ]
  },
  {
   "cell_type": "code",
   "execution_count": 1,
   "id": "d56f3774",
   "metadata": {},
   "outputs": [],
   "source": [
    "'''Imports'''\n",
    "import matplotlib.patches as patches\n",
    "import matplotlib.pyplot as plt\n",
    "import ipywidgets"
   ]
  },
  {
   "cell_type": "markdown",
   "id": "732f1104",
   "metadata": {},
   "source": [
    "#### This cell creates an interactive plot of the ray diagram for a compound microscope."
   ]
  },
  {
   "cell_type": "code",
   "execution_count": 2,
   "id": "0a8c8514",
   "metadata": {
    "scrolled": false
   },
   "outputs": [
    {
     "data": {
      "application/vnd.jupyter.widget-view+json": {
       "model_id": "6965c120108d41458a0e59d8b014e0b8",
       "version_major": 2,
       "version_minor": 0
      },
      "text/plain": [
       "interactive(children=(IntSlider(value=10, description='f1', max=20, min=1), IntSlider(value=20, description='f…"
      ]
     },
     "metadata": {},
     "output_type": "display_data"
    }
   ],
   "source": [
    "'''Initial Conditions'''\n",
    "f1 = 10         #focal length of the first lens [cm]\n",
    "f2 = 20         #focal length of the second lens [cm]\n",
    "lens_pos1 = 20  #position of the first lens on the ray diagram [cm]\n",
    "lens_pos2 = 55  #position of the second lens on the ray diagram [cm]\n",
    "obj_pos1 = 0    #position of the original object (light source) on the ray diagram [cm]\n",
    "ho1 = 1         #height of the original object [cm]\n",
    "\n",
    "'''Creating ray diagram for a compound microscope from thin lens equation calculations'''\n",
    "def microscope(f1 = f1, f2 = f2, obj_pos1 = obj_pos1, lens_pos1 = lens_pos1, lens_pos2 = lens_pos2):\n",
    "    #First lens\n",
    "    do1 = lens_pos1 - obj_pos1        #object distance [cm]\n",
    "    di1 = 1 / ((1 / f1) - (1 / do1))  #image distance [cm]\n",
    "    img_pos1 = lens_pos1 + di1        #position of the first image on the ray diagram [cm]\n",
    "    m1 = -di1 / do1                   #magnification of the first object/image pair\n",
    "    hi1 = ho1 * m1                    #height of the first image [cm]\n",
    "    \n",
    "    #Second lens\n",
    "    obj_pos2 = img_pos1               #position of the second object (first image) on the ray diagram [cm]\n",
    "    ho2 = hi1                         #height of the second object (first image) on the ray diagram [cm]\n",
    "    do2 = lens_pos2 - obj_pos2        #object distance [cm]\n",
    "    di2 = 1 / ((1 / f2) - (1 / do2))  #image distance [cm]\n",
    "    img_pos2 = lens_pos2 + di2        #position of the second image on the ray diagram [cm]\n",
    "    m2 = -di2 / do2                   #magnification of the second object/image pair\n",
    "    hi2 = ho2 * m2                    #height of the second image [cm]\n",
    "    \n",
    "    #Axes limits\n",
    "    max_height = max(abs(ho1), abs(ho2), abs(hi1), abs(hi2))\n",
    "    min_height = -max(abs(ho1), abs(ho2), abs(hi1), abs(hi2))\n",
    "    max_dist = max(lens_pos1 - f1, lens_pos2 + f2, obj_pos1, obj_pos2, img_pos1, img_pos2)\n",
    "    min_dist = min(lens_pos1 - f1, lens_pos2 + f2, obj_pos1, obj_pos2, img_pos1, img_pos2)\n",
    "    \n",
    "    #Creating the lenses\n",
    "    lens1 = patches.FancyArrowPatch((lens_pos1, min_height - 0.5), (lens_pos1, max_height + 0.5), arrowstyle = '<|-|>',\n",
    "                mutation_scale = 20, linewidth = 1.5, facecolor = 'red', edgecolor = 'darkgray')\n",
    "    lens2 = patches.FancyArrowPatch((lens_pos2, min_height - 0.5), (lens_pos2, max_height + 0.5), arrowstyle = '<|-|>',\n",
    "                mutation_scale = 20, linewidth = 1.5, facecolor = 'blue', edgecolor = 'darkgray')\n",
    "    \n",
    "    #Creating the objects and images\n",
    "    obj1 = patches.Arrow(obj_pos1, 0, 0, ho1, color = 'red', width = 0.5)\n",
    "    img1 = patches.Arrow(img_pos1, 0, 0, hi1, color = 'blue', width = 0.5)\n",
    "    img2 = patches.Arrow(img_pos2, 0, 0, hi2, color = 'green', width = 0.5)\n",
    "    \n",
    "    #Creating the figure\n",
    "    fig, ax = plt.subplots(figsize = (10, 5), dpi = 100)\n",
    "    fig.tight_layout()\n",
    "    ax.set_xlabel('Distance [cm]')\n",
    "    ax.set_ylabel('Height [cm]')\n",
    "    ax.set_title('Microscope Ray Diagram (f1 = {focal_length1}cm, f2 = {focal_length2}cm)'.format(\n",
    "                 focal_length1 = f1, focal_length2 = f2))\n",
    "    ax.grid(True, linestyle = 'dashed', color = 'darkgray', alpha = 0.25)\n",
    "    ax.plot([min_dist - 5, max_dist + 5], [0, 0], linestyle = 'solid', linewidth = 1, color = 'black')\n",
    "    line1, = ax.plot([], [], linestyle = 'solid', color = 'red', label = 'Object 1')\n",
    "    line2, = ax.plot([], [], linestyle = 'solid', color = 'blue', label = 'Image 1')\n",
    "    line3, = ax.plot([], [], linestyle = 'solid', color = 'green', label = 'Image 2')\n",
    "    line4, = ax.plot([], [], linestyle = 'None', label = 'Total m = {}x'.format(round(m1 * m2, 2)))\n",
    "    ax.scatter([lens_pos1 - f1, lens_pos1 + f1], [0, 0], s = 15, color = 'red', zorder = 5)\n",
    "    ax.scatter([lens_pos2 - f2, lens_pos2 + f2], [0, 0], s = 15, color = 'blue', zorder = 5)\n",
    "    \n",
    "    #Creating and adding the rays\n",
    "    x1_list = [obj_pos1, lens_pos1, obj_pos1, lens_pos1, obj_pos2, lens_pos2, obj_pos2, lens_pos2]\n",
    "    y1_list = [ho1, ho1, ho1, 0, ho2, ho2, ho2, 0]\n",
    "    x2_list = [lens_pos1, img_pos1, lens_pos1, img_pos1, lens_pos2, img_pos2, lens_pos2, img_pos2]\n",
    "    y2_list = [ho1, hi1, 0, hi1, ho2, hi2, 0, hi2]\n",
    "    color_list = ['red', 'red', 'red', 'red', 'blue', 'blue', 'blue', 'blue']\n",
    "    for x1, y1, x2, y2, color in zip(x1_list, y1_list, x2_list, y2_list, color_list):\n",
    "        ray = patches.ConnectionPatch((x1, y1), (x2, y2), coordsA = 'data', coordsB = 'data',\n",
    "                                      linestyle = 'solid', color = color, zorder = 10)\n",
    "        ax.add_patch(ray)\n",
    "        \n",
    "    #Adding the objects, images, and lenses\n",
    "    ax.add_patch(obj1)\n",
    "    ax.add_patch(img1)\n",
    "    ax.add_patch(img2)\n",
    "    ax.add_patch(lens1)\n",
    "    ax.add_patch(lens2)\n",
    "    \n",
    "    #Adding the legends\n",
    "    legend1 = ax.legend(loc = 'upper right', prop = {'size': 12}, handles = [line1, line2, line3])\n",
    "    plt.gca().add_artist(legend1)\n",
    "    ax.legend(loc = 'upper left', prop = {'size': 12}, handles = [line4], handlelength = 0)\n",
    "    \n",
    "'''Creating an interactive plot which controls the object distance and the focal length and position of the two thin lenses'''\n",
    "ipywidgets.interact(microscope, f1 = (1, 20, 1), f2 = (1, 50, 1), obj_pos1 = (0, 50, 1),\n",
    "                    lens_pos1 = (0, 100, 1), lens_pos2 = (0, 100, 1));"
   ]
  },
  {
   "cell_type": "code",
   "execution_count": null,
   "id": "ca006ad8",
   "metadata": {},
   "outputs": [],
   "source": []
  }
 ],
 "metadata": {
  "kernelspec": {
   "display_name": "Python 3 (ipykernel)",
   "language": "python",
   "name": "python3"
  },
  "language_info": {
   "codemirror_mode": {
    "name": "ipython",
    "version": 3
   },
   "file_extension": ".py",
   "mimetype": "text/x-python",
   "name": "python",
   "nbconvert_exporter": "python",
   "pygments_lexer": "ipython3",
   "version": "3.11.3"
  }
 },
 "nbformat": 4,
 "nbformat_minor": 5
}
